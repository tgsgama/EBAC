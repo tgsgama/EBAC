{
 "cells": [
  {
   "cell_type": "markdown",
   "metadata": {},
   "source": [
    "### 01 - Teste de gravidez\n",
    "Escreva uma célula com controle de fluxos que tem como premissa a existência das seguintes variáveis:\n",
    "\n",
    "- ```sexo``` como ```str``` indicando os valores '**M**' para masculino e '**F**' para feminino  \n",
    "- ```beta_hcg``` que indica a quantidade do beta-HCG no sangue em mUI/mL.\n",
    "\n",
    "A sua tarefa é escrever um código que imprima como resultado \"indivíduo do sexo masculino\" quando sexo = 'M', caso sexo = 'F', se o valor de beta-HCG for maior que 5, retorne \"Positivo\" indicando que a paciente está grávida, e retorne \"Negativo\" caso contrário.\n",
    "\n",
    "Não mexa nos valores da variável ```sexo``` nem em ```beta_hcg```, e escreva um código que funcione para quaisquer valores possíveis de ambos: ```sexo``` = '**M**' ou '**F**' e ```beta_hcg``` assumindo valores inteiros positivos."
   ]
  },
  {
   "cell_type": "code",
   "execution_count": 10,
   "metadata": {},
   "outputs": [
    {
     "name": "stdout",
     "output_type": "stream",
     "text": [
      "Individuo do sexo feminino - sigla = F\n",
      "teste beta-HCG negativo - 0\n"
     ]
    }
   ],
   "source": [
    "sexo = 'F'\n",
    "beta_hcg = 0\n",
    "\n",
    "# seu código vem abaixo desta linha\n",
    "if sexo == 'M':\n",
    "    print(f'Individuo do sexo masculino - sigla = {sexo}')\n",
    "elif sexo == 'F' and beta_hcg > 5:\n",
    "    print(f'Individuo do sexo feminino - sigla = {sexo}')\n",
    "    print(f'teste beta-HCG positivo - {beta_hcg}')\n",
    "else:    \n",
    "    print(f'Individuo do sexo feminino - sigla = {sexo}')\n",
    "    print(f'teste beta-HCG negativo - {beta_hcg}')\n",
    "    "
   ]
  },
  {
   "cell_type": "markdown",
   "metadata": {},
   "source": [
    "### 02 - Renomeando variáveis\n",
    "\n",
    "Vamos ver adiante que uma forma de renomear variáveis de um conjunto de dados é através de dicionários - o dicionário deve conter como chave o nome original, associando a cada chave um único valor (tipo *str*) que contenha o nome novo.\n",
    "\n",
    "A sua tarefa é escrever um dicionário que possa ser utilizado para traduzir as variáveis ```name``` (nome), ```age``` (idade) e ```income``` (renda). Ou seja, esse dicionário deve relacionar as chaves *name, age* e *income* às suas respectivas traduções."
   ]
  },
  {
   "cell_type": "code",
   "execution_count": 5,
   "metadata": {},
   "outputs": [
    {
     "name": "stdout",
     "output_type": "stream",
     "text": [
      "Chave -> name, Tradução -> nome\n",
      "Chave -> age, Tradução -> idade\n",
      "Chave -> income, Tradução -> renda\n"
     ]
    },
    {
     "data": {
      "text/plain": [
       "{'name': 'nome', 'age': 'idade', 'income': 'renda'}"
      ]
     },
     "execution_count": 5,
     "metadata": {},
     "output_type": "execute_result"
    }
   ],
   "source": [
    "dic_renomeacao = {'name': 'nome', 'age': 'idade', 'income': 'renda'}\n",
    "for chave, valor in dic_renomeacao.items():\n",
    "    print(f'Chave -> {chave}, Tradução -> {valor}')\n",
    "dic_renomeacao"
   ]
  },
  {
   "cell_type": "markdown",
   "metadata": {},
   "source": [
    "### 03 - É divisível?\n",
    "A sua tarefa é escrever um código que indique se um número ```N``` é divisível por um número P. Escreva um programa que faça essa verificação para quaisquer combinações de ```N``` e ```M``` e devolva uma mensagem indicativa no output."
   ]
  },
  {
   "cell_type": "code",
   "execution_count": 13,
   "metadata": {},
   "outputs": [
    {
     "name": "stdout",
     "output_type": "stream",
     "text": [
      "O número 42 é divisivel por um número Par\n"
     ]
    }
   ],
   "source": [
    "N = 42\n",
    "M = 7\n",
    "\n",
    "#Seu código\n",
    "if N % M == 0:\n",
    "    print(f'O número {N} é divisivel por um número Par')\n",
    "else:\n",
    "    print(f'O número {N} não é divisivel por um número Par')"
   ]
  },
  {
   "cell_type": "markdown",
   "metadata": {},
   "source": [
    "### 04 - Números primos\n",
    "> Um número **N** é primo se e somente se é divisível por 1, -1, por **N** e por -**N**.  \n",
    "\n",
    "Escreva um script que verifica se ```N``` é um número primo, verificando se ```N``` é divisível por todos os números de ```1``` a ```N-1```. Você vai precisar usar alguma ferramenta de *loop* que você aprendeu para isto. No final, devolva uma mensagem no output indicando se o número é primo ou não."
   ]
  },
  {
   "cell_type": "code",
   "execution_count": 73,
   "metadata": {},
   "outputs": [
    {
     "name": "stdout",
     "output_type": "stream",
     "text": [
      "\u001b[034m1\u001b[033m2\u001b[033m3\u001b[033m4\u001b[033m5\u001b[033m6\u001b[033m7\u001b[033m8\u001b[033m9\u001b[033m10\u001b[033m11\u001b[033m12\u001b[033m13\u001b[033m14\u001b[033m15\u001b[033m16\u001b[033m17\u001b[033m18\u001b[033m19\u001b[033m20\u001b[033m21\u001b[033m22\u001b[033m23\u001b[033m24\u001b[033m25\u001b[033m26\u001b[033m27\u001b[033m28\u001b[033m29\u001b[033m30\u001b[033m31\u001b[033m32\u001b[033m33\u001b[033m34\u001b[033m35\u001b[033m36\u001b[033m37\u001b[033m38\u001b[033m39\u001b[033m40\u001b[033m41\u001b[033m42\u001b[033m43\u001b[033m44\u001b[033m45\u001b[033m46\u001b[034m47\n",
      "\u001b[mO número 47 foi divisivel 2 vezes\n",
      "\n",
      "O número 47 é divisivel\n"
     ]
    }
   ],
   "source": [
    "N = 47\n",
    "total = 0\n",
    "\n",
    "# seu código abaixo\n",
    "for num in range(1, N+1):\n",
    "    if N % num == 0:\n",
    "        print('\\033[034m', end='')\n",
    "        total +=1\n",
    "    else:\n",
    "        print('\\033[033m', end='')\n",
    "        \n",
    "    print(f'{num}', end='')\n",
    "    \n",
    "print(f'\\n\\033[mO número {N} foi divisivel {total} vezes')\n",
    "\n",
    "if total<= 2:\n",
    "    print(f'\\nO número {N} é divisivel')\n",
    "else:\n",
    "    print(f'\\nO número {N} não é divisivel')\n"
   ]
  },
  {
   "cell_type": "markdown",
   "metadata": {},
   "source": [
    "### 05 - Desafio\n",
    "O algorítmo do exercício anterior não é o mais eficiente. O que você pode fazer para deixá-lo mais eficiente? Ou seja, executar menos comparações, portanto consumir menos tempo.\n",
    "1. Será que precisamos correr o loop até o final sempre?\n",
    "2. Será que precisamos mesmo verificar **todos** os números?\n",
    "3. Será que precisamos ir até N-1?\n",
    "\n",
    "Essas perguntas levam ao tipo de pensamento voltado a deixar um algoritmo mais eficiente. Veja se você consegue melhorar o seu."
   ]
  },
  {
   "cell_type": "code",
   "execution_count": 79,
   "metadata": {},
   "outputs": [],
   "source": [
    "# Podemos melhorar o codigo sim da sequinte maneira abaixo\n",
    "import math\n",
    "def verifica_numero(num: int) -> None:\n",
    "    tot=0\n",
    "    if num <= 1:\n",
    "        print(f'Número {num} não é primo')\n",
    "        \n",
    "    for n in range(2, int(math.sqrt(num) + 1)):\n",
    "        if num % n == 0:\n",
    "            print(f'Número {num} não é primo')\n",
    "            tot +=1\n",
    "            break\n",
    "        else:\n",
    "            print(f'Número {num} é primo') \n",
    "            break       \n",
    "    "
   ]
  },
  {
   "cell_type": "code",
   "execution_count": 80,
   "metadata": {},
   "outputs": [
    {
     "name": "stdout",
     "output_type": "stream",
     "text": [
      "Número 98 não é primo\n"
     ]
    }
   ],
   "source": [
    "N = 98\n",
    "\n",
    "# seu código aqui\n",
    "verifica_numero(N)\n"
   ]
  },
  {
   "cell_type": "markdown",
   "metadata": {},
   "source": [
    "### 06 - Peso ideal 1\n",
    "O IMC (índice de massa corpórea) é um indicador de saúde mais bem aceito que o peso. Ele é calculado como:\n",
    "\n",
    "$$ IMC = \\dfrac{peso}{altura^2}$$\n",
    "\n",
    "Segundo a OMS, valores *normais* são entre 18.5 e 24.9.\n",
    "\n",
    "Sua tarefa é encontrar o ponto médio dessa faixa."
   ]
  },
  {
   "cell_type": "code",
   "execution_count": 84,
   "metadata": {},
   "outputs": [
    {
     "data": {
      "text/plain": [
       "21.7"
      ]
     },
     "execution_count": 84,
     "metadata": {},
     "output_type": "execute_result"
    }
   ],
   "source": [
    "imc_ideal = (18.5 + 24.9)/2\n",
    "imc_ideal"
   ]
  },
  {
   "cell_type": "markdown",
   "metadata": {},
   "source": [
    "### 07 - Peso ideal 2\n",
    "Recebendo um valor de altura, encontre o peso '*ideal*' dessa pessoa, que fornece o IMC encontrado acima"
   ]
  },
  {
   "cell_type": "code",
   "execution_count": 87,
   "metadata": {},
   "outputs": [
    {
     "data": {
      "text/plain": [
       "62.71"
      ]
     },
     "execution_count": 87,
     "metadata": {},
     "output_type": "execute_result"
    }
   ],
   "source": [
    "altura = 1.70\n",
    "\n",
    "# Seu código\n",
    "peso_ideal = round(imc_ideal * (altura ** 2), 2)\n",
    "peso_ideal"
   ]
  },
  {
   "cell_type": "markdown",
   "metadata": {},
   "source": [
    "### 08 - Peso ideal 3\n",
    "Dada uma lista contendo as alturas de pacientes, crie uma nova lista que contenha o peso '*ideal*' (que fornece o IMC calculado em **Peso ideal 1**) desses pacientes."
   ]
  },
  {
   "cell_type": "code",
   "execution_count": 89,
   "metadata": {},
   "outputs": [
    {
     "data": {
      "text/plain": [
       "[82.51, 91.19, 62.71, 59.08]"
      ]
     },
     "execution_count": 89,
     "metadata": {},
     "output_type": "execute_result"
    }
   ],
   "source": [
    "lista_alturas = [1.95, 2.05, 1.70, 1.65]\n",
    "\n",
    "lista_peso_ideal = []\n",
    "\n",
    "# seu código\n",
    "for alt in lista_alturas:\n",
    "    lista_peso_ideal.append(round(imc_ideal * (alt ** 2), 2))\n",
    "\n",
    "lista_peso_ideal"
   ]
  },
  {
   "cell_type": "markdown",
   "metadata": {},
   "source": [
    "### 09 - Peso ideal 4\n",
    "Dada uma lista de tuplas - cada elemento da lista é uma tupla contendo altura e peso de um paciente - crie uma nova lista com o IMC desses pacientes."
   ]
  },
  {
   "cell_type": "code",
   "execution_count": 122,
   "metadata": {},
   "outputs": [
    {
     "data": {
      "text/plain": [
       "[27.78, 27.55, 19.19]"
      ]
     },
     "execution_count": 122,
     "metadata": {},
     "output_type": "execute_result"
    }
   ],
   "source": [
    "altura_peso = [(1.80, 90), (1.65, 75), (1.91, 70)]\n",
    "\n",
    "imc = []\n",
    "\n",
    "# seu código\n",
    "for alt, peso in altura_peso:\n",
    "    imc.append(round(peso/(alt**2), 2))\n",
    "\n",
    "imc"
   ]
  },
  {
   "cell_type": "markdown",
   "metadata": {},
   "source": [
    "### 10 - Peso ideal 5\n",
    "Dada uma lista de **listas** - cada elemento da lista é uma **lista** contendo altura e peso de um paciente, adicione mais um elemento à lista de cada paciente contendo o IMC do paciente. Verifique também se é 'baixo', 'normal' ou 'alto' segundo os padrões da OMS em que normal é entre 18.5 e 24.9.\n",
    "\n",
    "Reflexão: por que no problema anterior temos que criar uma nova lista, e não podemos adicionar os dados de cada indivíduo à tupla? R. Porque as tuplas são imutavéis."
   ]
  },
  {
   "cell_type": "code",
   "execution_count": 143,
   "metadata": {},
   "outputs": [
    {
     "name": "stdout",
     "output_type": "stream",
     "text": [
      "Segundo os padrões da OMS o IMC é considerado normal entre >= 18.5 e <= 24.9\n",
      "Paciente 1 esta com IMC alto - [27.78]\n",
      "Paciente 2 esta com IMC alto - [27.55]\n",
      "Paciente 3 esta com IMC normal - [19.19]\n"
     ]
    },
    {
     "data": {
      "text/plain": [
       "[[1.8, 90, 27.78], [1.65, 75, 27.55], [1.91, 70, 19.19]]"
      ]
     },
     "execution_count": 143,
     "metadata": {},
     "output_type": "execute_result"
    }
   ],
   "source": [
    "altura_peso = [[1.80, 90], [1.65, 75], [1.91, 70]]\n",
    "\n",
    "# seu código\n",
    "#imc_min = 18.5\n",
    "#imc_max = 24.9\n",
    "# Poderia guardar os valores de imc minimo e maximo em duas variaveis como citado acima, mas irei utilizar um dicionario\n",
    "imc = {'minimo': 18.5, 'maximo': 24.9}\n",
    "\n",
    "print(f\"Segundo os padrões da OMS o IMC é considerado normal entre >= {imc['minimo']} e <= {imc['maximo']}\")\n",
    "\n",
    "for i, n in enumerate(altura_peso):\n",
    "        n.append(round(n[1]/(n[0]**2), 2))\n",
    "        \n",
    "        if (altura_peso[i][2] > imc['minimo']) & (altura_peso[i][2] < imc['maximo']):\n",
    "            print(f'Paciente {i+1} esta com IMC normal - [{altura_peso[i][2]}]')\n",
    "        elif altura_peso[i][2] > imc['maximo']:\n",
    "            print(f'Paciente {i+1} esta com IMC alto - [{altura_peso[i][2]}]')\n",
    "        else:\n",
    "            print(f'Paciente {i+1} esta com IMC baixo - [{altura_peso[i][2]}]')\n",
    "\n",
    "altura_peso"
   ]
  },
  {
   "cell_type": "code",
   "execution_count": null,
   "metadata": {},
   "outputs": [],
   "source": []
  }
 ],
 "metadata": {
  "kernelspec": {
   "display_name": "Python 3 (ipykernel)",
   "language": "python",
   "name": "python3"
  },
  "language_info": {
   "codemirror_mode": {
    "name": "ipython",
    "version": 3
   },
   "file_extension": ".py",
   "mimetype": "text/x-python",
   "name": "python",
   "nbconvert_exporter": "python",
   "pygments_lexer": "ipython3",
   "version": "3.9.7"
  }
 },
 "nbformat": 4,
 "nbformat_minor": 4
}
